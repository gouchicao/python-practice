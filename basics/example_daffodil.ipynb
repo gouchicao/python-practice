{
 "cells": [
  {
   "cell_type": "markdown",
   "metadata": {},
   "source": [
    "# 找到100-1000内的所有水仙花数"
   ]
  },
  {
   "cell_type": "markdown",
   "metadata": {},
   "source": [
    "水仙花数（每个位的数字的3次方求和等于本身）\n",
    "例：1**3 + 5**3 + 3**3 = 153"
   ]
  },
  {
   "cell_type": "code",
   "execution_count": 27,
   "metadata": {
    "scrolled": true
   },
   "outputs": [
    {
     "data": {
      "text/plain": [
       "[153, 370, 371, 407]"
      ]
     },
     "execution_count": 27,
     "metadata": {},
     "output_type": "execute_result"
    }
   ],
   "source": [
    "[n for n in range(100, 1001) if int(str(n)[0])**3+int(str(n)[1])**3+int(str(n)[2])**3 == n]"
   ]
  },
  {
   "cell_type": "markdown",
   "metadata": {},
   "source": [
    "## 定义水仙花的函数"
   ]
  },
  {
   "cell_type": "code",
   "execution_count": 38,
   "metadata": {},
   "outputs": [],
   "source": [
    "def daffodil(begin, end):\n",
    "    #支持任意区间的求解\n",
    "    \n",
    "    if begin < 10:\n",
    "        return []\n",
    "    \n",
    "    if begin >= end:\n",
    "        return []\n",
    "    \n",
    "    nums = []\n",
    "    for n in range(begin, end+1):\n",
    "        s = str(n)\n",
    "        s_len = len(s)\n",
    "        \n",
    "        if sum([int(s[i])**3 for i in range(0, s_len)]) == n:\n",
    "            nums.append(n)\n",
    "        \n",
    "    return nums"
   ]
  },
  {
   "cell_type": "code",
   "execution_count": 39,
   "metadata": {},
   "outputs": [
    {
     "data": {
      "text/plain": [
       "[153, 370, 371, 407]"
      ]
     },
     "execution_count": 39,
     "metadata": {},
     "output_type": "execute_result"
    }
   ],
   "source": [
    "daffodil(100, 1001)"
   ]
  },
  {
   "cell_type": "code",
   "execution_count": 40,
   "metadata": {},
   "outputs": [
    {
     "data": {
      "text/plain": [
       "[153, 370, 371, 407]"
      ]
     },
     "execution_count": 40,
     "metadata": {},
     "output_type": "execute_result"
    }
   ],
   "source": [
    "daffodil(10, 10001)"
   ]
  }
 ],
 "metadata": {
  "kernelspec": {
   "display_name": "Python 3",
   "language": "python",
   "name": "python3"
  },
  "language_info": {
   "codemirror_mode": {
    "name": "ipython",
    "version": 3
   },
   "file_extension": ".py",
   "mimetype": "text/x-python",
   "name": "python",
   "nbconvert_exporter": "python",
   "pygments_lexer": "ipython3",
   "version": "3.7.0"
  }
 },
 "nbformat": 4,
 "nbformat_minor": 2
}
