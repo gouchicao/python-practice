{
 "cells": [
  {
   "cell_type": "markdown",
   "metadata": {},
   "source": [
    "# 数字转汉字大写"
   ]
  },
  {
   "cell_type": "code",
   "execution_count": 1,
   "metadata": {},
   "outputs": [],
   "source": [
    "s = '2019年7月23日'\n",
    "t = '零壹贰叁肆伍陆柒捌玖'"
   ]
  },
  {
   "cell_type": "code",
   "execution_count": 2,
   "metadata": {},
   "outputs": [
    {
     "name": "stdout",
     "output_type": "stream",
     "text": [
      "贰零壹玖年柒月贰叁日\n"
     ]
    }
   ],
   "source": [
    "# 方法1\n",
    "l = []\n",
    "for c in s:\n",
    "    if c.isdigit():\n",
    "        l.append(t[int(c)])\n",
    "    else:\n",
    "        l.append(c)\n",
    "print(''.join(l))"
   ]
  },
  {
   "cell_type": "code",
   "execution_count": 3,
   "metadata": {},
   "outputs": [
    {
     "name": "stdout",
     "output_type": "stream",
     "text": [
      "贰零壹玖年柒月贰叁日\n"
     ]
    }
   ],
   "source": [
    "# 方法2\n",
    "l = []\n",
    "for c in s:\n",
    "    l.append(t[int(c)] if c.isdigit() else c)\n",
    "print(''.join(l))"
   ]
  },
  {
   "cell_type": "code",
   "execution_count": 4,
   "metadata": {},
   "outputs": [
    {
     "name": "stdout",
     "output_type": "stream",
     "text": [
      "贰零壹玖年柒月贰叁日\n"
     ]
    }
   ],
   "source": [
    "# 方法3\n",
    "l = []\n",
    "[l.append(t[int(c)] if c.isdigit() else c) for c in s]\n",
    "print(''.join(l))"
   ]
  }
 ],
 "metadata": {
  "kernelspec": {
   "display_name": "Python 3",
   "language": "python",
   "name": "python3"
  },
  "language_info": {
   "codemirror_mode": {
    "name": "ipython",
    "version": 3
   },
   "file_extension": ".py",
   "mimetype": "text/x-python",
   "name": "python",
   "nbconvert_exporter": "python",
   "pygments_lexer": "ipython3",
   "version": "3.7.0"
  }
 },
 "nbformat": 4,
 "nbformat_minor": 2
}
