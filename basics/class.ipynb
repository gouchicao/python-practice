{
 "cells": [
  {
   "cell_type": "markdown",
   "metadata": {},
   "source": [
    "# 类"
   ]
  },
  {
   "cell_type": "markdown",
   "metadata": {},
   "source": [
    "## 创建类"
   ]
  },
  {
   "cell_type": "code",
   "execution_count": 5,
   "metadata": {},
   "outputs": [],
   "source": [
    "class Dog():\n",
    "    \"\"\"小狗\"\"\"\n",
    "    def __init__(self, name):\n",
    "        self.name = name\n",
    "\n",
    "    def sit(self):\n",
    "        print(self.name + ' is now sitting.')"
   ]
  },
  {
   "cell_type": "markdown",
   "metadata": {},
   "source": [
    "* 类定义\n",
    "    - python3\n",
    "        > class ClassName():\n",
    "    - python2.7\n",
    "        > class ClassName(object):\n",
    "\n",
    "* 类文档\n",
    "    > \"\"\"内容\"\"\"\n",
    "\n",
    "* 构造函数\n",
    "    > `__init__`\n",
    "    \n",
    "* 定义类属性\n",
    "    > self.property_name"
   ]
  },
  {
   "cell_type": "markdown",
   "metadata": {},
   "source": [
    "## 使用类"
   ]
  },
  {
   "cell_type": "code",
   "execution_count": 6,
   "metadata": {},
   "outputs": [
    {
     "name": "stdout",
     "output_type": "stream",
     "text": [
      "x\n",
      "x is now sitting.\n"
     ]
    }
   ],
   "source": [
    "# 创建对象\n",
    "dog = Dog('x')\n",
    "\n",
    "# 访问属性\n",
    "print(dog.name)\n",
    "\n",
    "# 调用方法\n",
    "dog.sit()"
   ]
  },
  {
   "cell_type": "markdown",
   "metadata": {},
   "source": [
    "## 继承"
   ]
  },
  {
   "cell_type": "code",
   "execution_count": 7,
   "metadata": {},
   "outputs": [
    {
     "name": "stdout",
     "output_type": "stream",
     "text": [
      "Tesla ModelS 2016\n"
     ]
    }
   ],
   "source": [
    "# python3\n",
    "class Car():\n",
    "    def __init__(self, make, model, year):\n",
    "        self.make = make\n",
    "        self.model = model\n",
    "        self.year = year\n",
    "    def print(self):\n",
    "        print('{} {} {}'.format(self.make, self.model, self.year))\n",
    "        \n",
    "class ElectricCar(Car):\n",
    "    def __init__(self, make, model, year):\n",
    "        super().__init__(make, model, year)\n",
    "\n",
    "electric_car = ElectricCar('Tesla', 'ModelS', 2016)\n",
    "electric_car.print()"
   ]
  },
  {
   "cell_type": "code",
   "execution_count": 8,
   "metadata": {
    "scrolled": false
   },
   "outputs": [
    {
     "name": "stdout",
     "output_type": "stream",
     "text": [
      "Tesla ModelS 2016\n"
     ]
    }
   ],
   "source": [
    "# python2.7\n",
    "class Car(object):\n",
    "    def __init__(self, make, model, year):\n",
    "        self.make = make\n",
    "        self.model = model\n",
    "        self.year = year\n",
    "    def print(self):\n",
    "        print('{} {} {}'.format(self.make, self.model, self.year))\n",
    "        \n",
    "class ElectricCar(Car):\n",
    "    def __init__(self, make, model, year):\n",
    "        super(ElectricCar, self).__init__(make, model, year)\n",
    "\n",
    "electric_car = ElectricCar('Tesla', 'ModelS', 2016)\n",
    "electric_car.print()"
   ]
  },
  {
   "cell_type": "markdown",
   "metadata": {},
   "source": [
    "## 导入"
   ]
  },
  {
   "cell_type": "markdown",
   "metadata": {},
   "source": [
    "* 导入模块\n",
    "    > import model_name\n",
    "    \n",
    "    > import model_name.model_name\n",
    "    \n",
    "* 导入类\n",
    "    > from model_name import ClassName\n",
    "    \n",
    "    > from model_name import ClassName, ClassName\n",
    "\n",
    "* 导入模块中所有的对象\n",
    "    > from model_name import *"
   ]
  },
  {
   "cell_type": "code",
   "execution_count": 10,
   "metadata": {},
   "outputs": [
    {
     "name": "stdout",
     "output_type": "stream",
     "text": [
      "1563969291.0242372\n"
     ]
    }
   ],
   "source": [
    "# 导入整个模块\n",
    "import time\n",
    "print(time.time())\n"
   ]
  },
  {
   "cell_type": "code",
   "execution_count": 11,
   "metadata": {},
   "outputs": [
    {
     "name": "stdout",
     "output_type": "stream",
     "text": [
      "1563969294.51173\n"
     ]
    }
   ],
   "source": [
    "# 导入函数\n",
    "from time import time\n",
    "print(time())"
   ]
  },
  {
   "cell_type": "markdown",
   "metadata": {},
   "source": [
    "## 约定规范"
   ]
  },
  {
   "cell_type": "markdown",
   "metadata": {},
   "source": [
    "```py\n",
    "## 标准库放前面\n",
    "import os\n",
    "import sys\n",
    "import time\n",
    "\n",
    "## 第三方模块\n",
    "\n",
    "## 自定义模块\n",
    "from car import Car\n",
    "\n",
    "\n",
    "\"\"\"模块文档\"\"\"\n",
    "\n",
    "\n",
    "## 类名驼峰命名法\n",
    "class ElectricCar(Car):\n",
    "    \"\"\"\n",
    "    类文档\n",
    "    电动车\n",
    "    \"\"\"\n",
    "    \n",
    "    def __init__(self, make, model, year):\n",
    "        super().__init__(make, model, year)\n",
    "\n",
    "\n",
    "class HybridCar(Car):\n",
    "    \"\"\"\n",
    "    类文档\n",
    "    混动车\n",
    "    \"\"\"\n",
    "\n",
    "    def __init__(self, make, model, year):\n",
    "        super().__init__(make, model, year)\n",
    "\n",
    "```"
   ]
  }
 ],
 "metadata": {
  "kernelspec": {
   "display_name": "Python 3",
   "language": "python",
   "name": "python3"
  },
  "language_info": {
   "codemirror_mode": {
    "name": "ipython",
    "version": 3
   },
   "file_extension": ".py",
   "mimetype": "text/x-python",
   "name": "python",
   "nbconvert_exporter": "python",
   "pygments_lexer": "ipython3",
   "version": "3.7.0"
  }
 },
 "nbformat": 4,
 "nbformat_minor": 2
}
