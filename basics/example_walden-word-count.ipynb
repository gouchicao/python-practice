{
 "cells": [
  {
   "cell_type": "markdown",
   "metadata": {},
   "source": [
    "# Walden单词统计"
   ]
  },
  {
   "cell_type": "code",
   "execution_count": 1,
   "metadata": {},
   "outputs": [],
   "source": [
    "import os"
   ]
  },
  {
   "cell_type": "code",
   "execution_count": 2,
   "metadata": {},
   "outputs": [
    {
     "data": {
      "text/plain": [
       "'/Users/wjj/GitHub/gouchicao/python-practice/basics'"
      ]
     },
     "execution_count": 2,
     "metadata": {},
     "output_type": "execute_result"
    }
   ],
   "source": [
    "# 查看当前目录\n",
    "os.getcwd()"
   ]
  },
  {
   "cell_type": "code",
   "execution_count": 3,
   "metadata": {},
   "outputs": [
    {
     "data": {
      "text/plain": [
       "'/Users/wjj/GitHub/gouchicao/python-practice/basics/../data/Walden.txt'"
      ]
     },
     "execution_count": 3,
     "metadata": {},
     "output_type": "execute_result"
    }
   ],
   "source": [
    "# 使用os.path.join进行路径拼接\n",
    "file_path = os.path.join(os.getcwd(), '../data/Walden.txt')\n",
    "file_path"
   ]
  },
  {
   "cell_type": "code",
   "execution_count": 4,
   "metadata": {},
   "outputs": [
    {
     "name": "stdout",
     "output_type": "stream",
     "text": [
      "﻿\n",
      "The Project Gutenberg EBook of Walden, and On The Duty Of Civil\n",
      "Disobedience, by Henry David Thore\n",
      "......\n",
      "......\n",
      " produce our new eBooks, and how to\n",
      "subscribe to our email newsletter to hear about new eBooks.\n",
      "\n",
      "\n",
      "\n",
      "\n",
      "\n"
     ]
    }
   ],
   "source": [
    "# 读取Walden文本的内容\n",
    "content = ''\n",
    "with open(file_path, 'r') as f:\n",
    "    content = f.read()\n",
    "\n",
    "# 使用分片对内容的头尾进行输出\n",
    "print('{}\\n......\\n......\\n{}'.format(content[:100], content[-100:]))"
   ]
  },
  {
   "cell_type": "code",
   "execution_count": 5,
   "metadata": {},
   "outputs": [],
   "source": [
    "# 对大列表对象输出少量的头尾内容\n",
    "def print_head_tail(obj):\n",
    "    print('{}......{}'.format(obj[:5], obj[-5:]))"
   ]
  },
  {
   "cell_type": "code",
   "execution_count": 6,
   "metadata": {},
   "outputs": [
    {
     "name": "stdout",
     "output_type": "stream",
     "text": [
      "['\\ufeff', 'The', 'Project', 'Gutenberg', 'EBook']......['to', 'hear', 'about', 'new', 'eBooks.']\n"
     ]
    }
   ],
   "source": [
    "# 分隔出所有单词\n",
    "all_words = content.split()\n",
    "\n",
    "print_head_tail(all_words)"
   ]
  },
  {
   "cell_type": "code",
   "execution_count": 7,
   "metadata": {},
   "outputs": [],
   "source": [
    "# 找出唯一的单词\n",
    "unique_words = set(all_words)"
   ]
  },
  {
   "cell_type": "code",
   "execution_count": 8,
   "metadata": {},
   "outputs": [],
   "source": [
    "# 统计每个单词出现的个数\n",
    "word_counts = {}\n",
    "for word in unique_words:\n",
    "    word_counts[word] = all_words.count(word)"
   ]
  },
  {
   "cell_type": "code",
   "execution_count": 9,
   "metadata": {},
   "outputs": [
    {
     "name": "stdout",
     "output_type": "stream",
     "text": [
      "[('the', 7070), ('and', 4509), ('of', 3571), ('to', 3094), ('a', 2996)]......[('wood-yard,', 1), ('queer,', 1), ('farming,', 1), ('dissipated', 1), ('deem', 1)]\n"
     ]
    }
   ],
   "source": [
    "# 对字典进行反向排序\n",
    "word_counts_sorted = sorted(word_counts.items(), key=lambda x: -x[1])\n",
    "\n",
    "print_head_tail(word_counts_sorted)"
   ]
  },
  {
   "cell_type": "code",
   "execution_count": 10,
   "metadata": {},
   "outputs": [
    {
     "name": "stdout",
     "output_type": "stream",
     "text": [
      "118879\n",
      "18812\n"
     ]
    }
   ],
   "source": [
    "# 单词数和唯一单词数\n",
    "print(len(all_words))\n",
    "print(len(unique_words))"
   ]
  },
  {
   "cell_type": "code",
   "execution_count": 29,
   "metadata": {},
   "outputs": [
    {
     "data": {
      "image/png": "[encoded data removed]",
      "text/plain": [
       "<Figure size 1440x720 with 1 Axes>"
      ]
     },
     "metadata": {
      "needs_background": "light"
     },
     "output_type": "display_data"
    }
   ],
   "source": [
    "# 前50个数量最多的单词绘制柱状图\n",
    "import matplotlib.pyplot as plt\n",
    "\n",
    "TOP_NUM = 50\n",
    "\n",
    "plt.figure(figsize=(20, 10))\n",
    "for i, word_count in enumerate(word_counts_sorted):\n",
    "    if i >= TOP_NUM:\n",
    "        break\n",
    "        \n",
    "    plt.bar(i, word_count[1]) \n",
    "plt.show()"
   ]
  },
  {
   "cell_type": "markdown",
   "metadata": {},
   "source": [
    "## 参考资料\n",
    "* [Walden, and On The Duty Of Civil Disobedience by Henry David Thoreau](https://www.gutenberg.org/ebooks/205)"
   ]
  }
 ],
 "metadata": {
  "kernelspec": {
   "display_name": "Python 3",
   "language": "python",
   "name": "python3"
  },
  "language_info": {
   "codemirror_mode": {
    "name": "ipython",
    "version": 3
   },
   "file_extension": ".py",
   "mimetype": "text/x-python",
   "name": "python",
   "nbconvert_exporter": "python",
   "pygments_lexer": "ipython3",
   "version": "3.7.0"
  }
 },
 "nbformat": 4,
 "nbformat_minor": 2
}
